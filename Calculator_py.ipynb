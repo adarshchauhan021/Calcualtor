{
  "nbformat": 4,
  "nbformat_minor": 0,
  "metadata": {
    "colab": {
      "provenance": [],
      "authorship_tag": "ABX9TyPeBB2X3HDn3HheJ1FGpggZ",
      "include_colab_link": true
    },
    "kernelspec": {
      "name": "python3",
      "display_name": "Python 3"
    },
    "language_info": {
      "name": "python"
    }
  },
  "cells": [
    {
      "cell_type": "markdown",
      "metadata": {
        "id": "view-in-github",
        "colab_type": "text"
      },
      "source": [
        "<a href=\"https://colab.research.google.com/github/adarshchauhan021/Calcualtor/blob/main/Calculator_py.ipynb\" target=\"_parent\"><img src=\"https://colab.research.google.com/assets/colab-badge.svg\" alt=\"Open In Colab\"/></a>"
      ]
    },
    {
      "cell_type": "code",
      "source": [
        "# How to build a simple calculator\n",
        "\n",
        "print(\"Select on operation to perform:\")\n",
        "print(\"1. ADD\")\n",
        "print(\"2. SUBTRACT\")\n",
        "print(\"3. MULTIPLY\")\n",
        "print(\"4. DIVIDE\")\n",
        "\n",
        "operation = input()\n",
        "\n",
        "if operation == \"1\":\n",
        "  num1=input(\"Enter first number: \")\n",
        "  num2=input(\"Enter second number: \")\n",
        "  print(\"The sum is \"+ str(int(num1) + int(num2)))\n",
        "elif operation== \"2\":\n",
        "  num1=input(\"Enter first number: \")\n",
        "  num2=input(\"Enter second number: \")\n",
        "  print(\"The difference is \"+ str(int(num1) - int(num2)))\n",
        "elif operation == \"3\":\n",
        "  num1=input(\"Enter first number: \")\n",
        "  num2=input(\"Enter second number: \")\n",
        "  print(\"The product is \"+ str(int(num1) * int(num2)))\n",
        "elif operation== \"4\":\n",
        "  num1=input(\"Enter first number: \")\n",
        "  num2=input(\"Enter second number: \")\n",
        "  print(\"The divide is \"+ str(int(num1) / int(num2)))\n",
        "else:\n",
        "  print(\"Invalid entry\")"
      ],
      "metadata": {
        "colab": {
          "base_uri": "https://localhost:8080/"
        },
        "id": "oLqbEA5kVs30",
        "outputId": "de37d990-b72c-499e-8912-c18063e5480e"
      },
      "execution_count": null,
      "outputs": [
        {
          "output_type": "stream",
          "name": "stdout",
          "text": [
            "Select on operation to perform:\n",
            "1. ADD\n",
            "2. SUBTRACT\n",
            "3. MULTIPLY\n",
            "4. DIVIDE\n",
            "1\n",
            "Enter first number: 5\n",
            "Enter second number: 5\n",
            "The sum is 10\n"
          ]
        }
      ]
    }
  ]
}